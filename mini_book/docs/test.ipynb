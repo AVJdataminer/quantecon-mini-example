{
 "cells": [
  {
   "cell_type": "markdown",
   "metadata": {},
   "source": [
    "# Test ipynb\n",
    "\n",
    "Imagine you're offered a choice between $1 guaranteed or $100 with probability $\\frac{1}{80}$ (i.e. with probability $\\frac{79}{80}$, you get $0). Which would you choose? Most people would be probably say the $1 because it's guaranteed that you'll get a positive outcome. But is that the rational choice?\n",
    "\n",
    "\n",
    "Imagine you're offered a choice between \\$1 guaranteed or \\$100 with probability $\\frac{1}{80}$ (i.e. with probability $\\frac{79}{80}$, you get \\$0). Which would you choose? Most people would be probably say the \\$1 because it's guaranteed that you'll get a positive outcome. But is that the rational choice?\n",
    "\n",
    "\n",
    "Imagine you're offered a choice between \\\\$1 guaranteed or \\\\$100 with probability $\\frac{1}{80}$ (i.e. with probability $\\frac{79}{80}$, you get \\\\$0). Which would you choose? Most people would be probably say the \\\\$1 because it's guaranteed that you'll get a positive outcome. But is that the rational choice?"
   ]
  },
  {
   "cell_type": "markdown",
   "metadata": {},
   "source": [
    "## Test dollar sign inside inline math\n",
    "\n",
    "Inline math using `$`: $p_2 = \\$1$.\n",
    "\n",
    "Inline math using `math` role: {math}`p_2 = \\$1`."
   ]
  },
  {
   "cell_type": "code",
   "execution_count": null,
   "metadata": {},
   "outputs": [],
   "source": []
  }
 ],
 "metadata": {
  "kernelspec": {
   "display_name": "Python 3",
   "language": "python",
   "name": "python3"
  },
  "language_info": {
   "codemirror_mode": {
    "name": "ipython",
    "version": 3
   },
   "file_extension": ".py",
   "mimetype": "text/x-python",
   "name": "python",
   "nbconvert_exporter": "python",
   "pygments_lexer": "ipython3",
   "version": "3.7.8"
  }
 },
 "nbformat": 4,
 "nbformat_minor": 4
}
